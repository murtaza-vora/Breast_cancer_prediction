{
 "cells": [
  {
   "cell_type": "code",
   "execution_count": 30,
   "metadata": {
    "id": "5PMK8ANINYmd"
   },
   "outputs": [],
   "source": [
    "import matplotlib\n",
    "matplotlib.use(\"Agg\")\n",
    "\n",
    "import numpy as np"
   ]
  },
  {
   "cell_type": "code",
   "execution_count": 31,
   "metadata": {},
   "outputs": [],
   "source": [
    "import tensorflow as tf\n"
   ]
  },
  {
   "cell_type": "code",
   "execution_count": 32,
   "metadata": {
    "id": "PgPAwF3DNerc"
   },
   "outputs": [],
   "source": [
    "from keras.preprocessing.image import ImageDataGenerator\n",
    "from keras.callbacks import LearningRateScheduler\n",
    "from keras.optimizers import  Adagrad\n",
    "\n",
    "from sklearn.metrics import classification_report\n",
    "from sklearn.metrics import confusion_matrix\n",
    "import os\n",
    "import argparse\n",
    "from imutils import paths\n",
    "import matplotlib.pyplot as plt\n",
    "from keras.utils import to_categorical"
   ]
  },
  {
   "cell_type": "code",
   "execution_count": 33,
   "metadata": {},
   "outputs": [],
   "source": [
    "from cancernet import Murtaza"
   ]
  },
  {
   "cell_type": "markdown",
   "metadata": {
    "id": "Qd7H56fxk8tY"
   },
   "source": []
  },
  {
   "cell_type": "code",
   "execution_count": 34,
   "metadata": {
    "colab": {
     "base_uri": "https://localhost:8080/"
    },
    "id": "HA8AqMOxk9BL",
    "outputId": "cfe1487a-71e9-43ba-e8e1-25a97adf99f6"
   },
   "outputs": [],
   "source": [
    "\n",
    "\n",
    "import config_IDC as config\n"
   ]
  },
  {
   "cell_type": "code",
   "execution_count": null,
   "metadata": {
    "id": "afScBiM9PV58"
   },
   "outputs": [],
   "source": []
  },
  {
   "cell_type": "code",
   "execution_count": null,
   "metadata": {
    "id": "zjOJf7CXU7Ym"
   },
   "outputs": [],
   "source": []
  },
  {
   "cell_type": "code",
   "execution_count": null,
   "metadata": {
    "id": "WXGRTB0bWDFV"
   },
   "outputs": [],
   "source": []
  },
  {
   "cell_type": "code",
   "execution_count": 35,
   "metadata": {
    "colab": {
     "base_uri": "https://localhost:8080/",
     "height": 217
    },
    "id": "WnWLPxw4WLRf",
    "outputId": "bf38bfd8-c440-4de6-c72e-2043a2bae09e"
   },
   "outputs": [],
   "source": [
    "#ap = argparse.ArgumentParser()\n",
    "#ap.add_argument(\"-p\",\"--plot\", type =str, default =\"plot.png\", help = \"path to output loss/accuracy plot\")\n",
    "#args = vars(ap.parse_args())"
   ]
  },
  {
   "cell_type": "code",
   "execution_count": 65,
   "metadata": {
    "id": "dqWvbi2uXCbp"
   },
   "outputs": [],
   "source": [
    "num_epochs = 8\n",
    "init_lr = 0.001\n",
    "bs = 32\n"
   ]
  },
  {
   "cell_type": "code",
   "execution_count": 38,
   "metadata": {
    "id": "a6wXs8wRZf-Z"
   },
   "outputs": [],
   "source": [
    "trainpaths = list(paths.list_images(config.TRAIN_PATH))\n",
    "totaltrain = len(trainpaths)\n",
    "totalval = len(list(paths.list_images(config.VAL_PATH)))\n",
    "totaltest = len(list(paths.list_images(config.TEST_PATH)))"
   ]
  },
  {
   "cell_type": "markdown",
   "metadata": {
    "id": "9MrGMVQlI00w"
   },
   "source": [
    "# New Section"
   ]
  },
  {
   "cell_type": "code",
   "execution_count": null,
   "metadata": {
    "id": "GtC8Ah1A9ba9"
   },
   "outputs": [],
   "source": []
  },
  {
   "cell_type": "code",
   "execution_count": 39,
   "metadata": {
    "id": "juQeAVbRa9DH"
   },
   "outputs": [],
   "source": [
    "\n",
    "trainlabels = [int(p.split(os.path.sep)[-2]) for p in trainpaths]\n",
    "\n"
   ]
  },
  {
   "cell_type": "code",
   "execution_count": 40,
   "metadata": {},
   "outputs": [],
   "source": [
    "trainlabels = to_categorical(trainlabels)\n",
    "classtotal = trainlabels.sum(axis=0)\n",
    "\n",
    "# Ensure class labels are in the range [0, num_classes-1]\n",
    "num_classes = len(classtotal)\n",
    "\n",
    "# Initialize an empty dictionary\n",
    "classweight = {}\n",
    "\n",
    "# Calculate the maximum weight and create the class weight dictionary\n",
    "max_weight = max(classtotal)  # Find the maximum class weight\n",
    "for idx, weight in enumerate(classtotal):\n",
    "    classweight[idx] = max_weight / weight  # Assign class weight to corresponding class label\n"
   ]
  },
  {
   "cell_type": "code",
   "execution_count": 41,
   "metadata": {
    "colab": {
     "base_uri": "https://localhost:8080/",
     "height": 381
    },
    "id": "Rljdqzyfa_kg",
    "outputId": "c779f31f-c71a-4be3-e42f-2acf47e3d062"
   },
   "outputs": [],
   "source": [
    "#trainlabels = to_categorical(trainlabels)\n",
    "#classtotal = trainlabels.sum(axis =0)\n",
    "#classweight = classtotal.max()/classtotal\n"
   ]
  },
  {
   "cell_type": "code",
   "execution_count": 42,
   "metadata": {
    "colab": {
     "base_uri": "https://localhost:8080/"
    },
    "id": "MxxIVRb1hxC1",
    "outputId": "aa16d38a-ffb0-4acd-b109-075c520f18ea"
   },
   "outputs": [],
   "source": [
    "# training augmentation object\n",
    "trainaug = ImageDataGenerator(\n",
    "    rescale =1/255.0,\n",
    "    rotation_range= 20,\n",
    "    zoom_range= 0.05,\n",
    "    width_shift_range= 0.1,\n",
    "    height_shift_range=0.1,\n",
    "    shear_range = 0.05,\n",
    "    horizontal_flip= True,\n",
    "    vertical_flip=True,\n",
    "    fill_mode=\"nearest\"\n",
    "\n",
    ")"
   ]
  },
  {
   "cell_type": "markdown",
   "metadata": {},
   "source": [
    "train_datagen = ImageDataGenerator(\n",
    "    rescale=1.0 / 255,\n",
    "    rotation_range=20,\n",
    "    zoom_range=0.05,\n",
    "    width_shift_range=0.1,\n",
    "    height_shift_range=0.1,\n",
    "    shear_range=0.05,\n",
    "    horizontal_flip=True,\n",
    "    fill_mode='nearest'\n",
    ")"
   ]
  },
  {
   "cell_type": "code",
   "execution_count": 43,
   "metadata": {
    "id": "o2qq0biNibZz"
   },
   "outputs": [],
   "source": [
    "# creating validation and testing augmentation object\n",
    "valaug= ImageDataGenerator(rescale= 1/255.0)"
   ]
  },
  {
   "cell_type": "code",
   "execution_count": 44,
   "metadata": {
    "id": "ke3xsBf6-Ncj"
   },
   "outputs": [
    {
     "name": "stdout",
     "output_type": "stream",
     "text": [
      "Found 199818 images belonging to 2 classes.\n"
     ]
    }
   ],
   "source": [
    "# now creating images using augmentation object\n",
    "traingen = trainaug.flow_from_directory(\n",
    "    config.TRAIN_PATH,\n",
    "    class_mode=\"categorical\",\n",
    "    target_size=(48,48),\n",
    "    batch_size = bs\n",
    "\n",
    ")"
   ]
  },
  {
   "cell_type": "markdown",
   "metadata": {},
   "source": [
    "train_generator = train_datagen.flow_from_directory(\n",
    "    config_IDC.TRAIN_PATH,\n",
    "    target_size=(48, 48),\n",
    "    batch_size=32,\n",
    "    class_mode='categorical'\n",
    ")\n"
   ]
  },
  {
   "cell_type": "code",
   "execution_count": 45,
   "metadata": {
    "id": "TBVs8zh4mbHM"
   },
   "outputs": [
    {
     "name": "stdout",
     "output_type": "stream",
     "text": [
      "Found 22201 images belonging to 2 classes.\n"
     ]
    }
   ],
   "source": [
    "valgen = valaug.flow_from_directory(\n",
    "    config.VAL_PATH,\n",
    "    class_mode=\"categorical\",\n",
    "    target_size=(48,48),\n",
    "    batch_size = bs\n",
    "\n",
    ")"
   ]
  },
  {
   "cell_type": "code",
   "execution_count": 46,
   "metadata": {
    "id": "dwfZh8FYmbJt"
   },
   "outputs": [
    {
     "name": "stdout",
     "output_type": "stream",
     "text": [
      "Found 55520 images belonging to 2 classes.\n"
     ]
    }
   ],
   "source": [
    "testgen= valaug.flow_from_directory(\n",
    "    config.TEST_PATH,\n",
    "    class_mode=\"categorical\",\n",
    "    target_size=(48,48),\n",
    "    shuffle = False,\n",
    "    batch_size = bs\n",
    ")\n"
   ]
  },
  {
   "cell_type": "code",
   "execution_count": 50,
   "metadata": {
    "id": "6FRvAK7_mbMH"
   },
   "outputs": [
    {
     "name": "stderr",
     "output_type": "stream",
     "text": [
      "WARNING:absl:At this time, the v2.11+ optimizer `tf.keras.optimizers.Adagrad` runs slowly on M1/M2 Macs, please use the legacy Keras optimizer instead, located at `tf.keras.optimizers.legacy.Adagrad`.\n",
      "WARNING:absl:There is a known slowdown when using v2.11+ Keras optimizers on M1/M2 Macs. Falling back to the legacy Keras optimizer, i.e., `tf.keras.optimizers.legacy.Adagrad`.\n"
     ]
    }
   ],
   "source": [
    "model = Murtaza.build(48, 48, 3, 2)\n",
    "\n",
    "lr_schedule = tf.keras.optimizers.schedules.ExponentialDecay(\n",
    "    initial_learning_rate=init_lr,\n",
    "    decay_steps=num_epochs,  # You can adjust this if needed\n",
    "    decay_rate=0.9,  # You can adjust this as well\n",
    ")\n",
    "\n",
    "opt = tf.keras.optimizers.Adagrad(learning_rate=lr_schedule)\n",
    "model.compile(loss = \"binary_crossentropy\", optimizer= opt, metrics = ['accuracy'])"
   ]
  },
  {
   "cell_type": "code",
   "execution_count": 66,
   "metadata": {
    "id": "MwSFWdIKmbOH"
   },
   "outputs": [
    {
     "name": "stdout",
     "output_type": "stream",
     "text": [
      "Epoch 1/8\n",
      "6245/6245 [==============================] - 248s 40ms/step - loss: 0.7572 - accuracy: 0.7774 - val_loss: 0.7503 - val_accuracy: 0.6680\n",
      "Epoch 2/8\n",
      "6245/6245 [==============================] - 266s 43ms/step - loss: 0.7561 - accuracy: 0.7778 - val_loss: 0.7457 - val_accuracy: 0.6708\n",
      "Epoch 3/8\n",
      "6245/6245 [==============================] - 729s 117ms/step - loss: 0.7562 - accuracy: 0.7772 - val_loss: 0.7363 - val_accuracy: 0.6758\n",
      "Epoch 4/8\n",
      "6245/6245 [==============================] - 272s 44ms/step - loss: 0.7559 - accuracy: 0.7776 - val_loss: 0.7481 - val_accuracy: 0.6683\n",
      "Epoch 5/8\n",
      "6245/6245 [==============================] - 291s 47ms/step - loss: 0.7565 - accuracy: 0.7774 - val_loss: 0.7540 - val_accuracy: 0.6642\n",
      "Epoch 6/8\n",
      "6245/6245 [==============================] - 281s 45ms/step - loss: 0.7569 - accuracy: 0.7770 - val_loss: 0.7513 - val_accuracy: 0.6670\n",
      "Epoch 7/8\n",
      "6245/6245 [==============================] - 294s 47ms/step - loss: 0.7567 - accuracy: 0.7781 - val_loss: 0.7489 - val_accuracy: 0.6673\n",
      "Epoch 8/8\n",
      "6245/6245 [==============================] - 302s 48ms/step - loss: 0.7557 - accuracy: 0.7774 - val_loss: 0.7404 - val_accuracy: 0.6729\n"
     ]
    }
   ],
   "source": [
    "\n",
    "h = model.fit(\n",
    "    traingen,\n",
    "    steps_per_epoch=len(traingen),\n",
    "    epochs=num_epochs,\n",
    "    validation_data=valgen,\n",
    "    validation_steps=len(valgen),\n",
    "    class_weight=classweight\n",
    ")"
   ]
  },
  {
   "cell_type": "code",
   "execution_count": 67,
   "metadata": {
    "id": "9br7c_FambQb"
   },
   "outputs": [
    {
     "name": "stdout",
     "output_type": "stream",
     "text": [
      "[INFO] Evaluating network\n",
      "1735/1735 [==============================] - 21s 12ms/step\n",
      "[INFO] Done\n"
     ]
    }
   ],
   "source": [
    "print(\"[INFO] Evaluating network\")\n",
    "testgen.reset()\n",
    "predIDxs = model.predict(testgen, steps=len(testgen), verbose=1)\n",
    "\n",
    "print(\"[INFO] Done\")"
   ]
  },
  {
   "cell_type": "code",
   "execution_count": 68,
   "metadata": {
    "id": "coOMQLOmmbS7"
   },
   "outputs": [],
   "source": [
    "predIDxs = np.argmax(predIDxs, axis =1)"
   ]
  },
  {
   "cell_type": "code",
   "execution_count": 69,
   "metadata": {
    "id": "8Dhhtq2GPEbd"
   },
   "outputs": [
    {
     "data": {
      "text/plain": [
       "array([0, 1, 0, ..., 1, 1, 1])"
      ]
     },
     "execution_count": 69,
     "metadata": {},
     "output_type": "execute_result"
    }
   ],
   "source": [
    "predIDxs"
   ]
  },
  {
   "cell_type": "code",
   "execution_count": 70,
   "metadata": {
    "id": "RT_HG_udmbVS"
   },
   "outputs": [
    {
     "name": "stdout",
     "output_type": "stream",
     "text": [
      "              precision    recall  f1-score   support\n",
      "\n",
      "           0       0.92      0.59      0.72     39611\n",
      "           1       0.46      0.88      0.61     15909\n",
      "\n",
      "    accuracy                           0.67     55520\n",
      "   macro avg       0.69      0.74      0.66     55520\n",
      "weighted avg       0.79      0.67      0.69     55520\n",
      "\n"
     ]
    }
   ],
   "source": [
    "# classification report\n",
    "print(classification_report(testgen.classes, predIDxs, target_names = testgen.class_indices.keys()))"
   ]
  },
  {
   "cell_type": "code",
   "execution_count": 71,
   "metadata": {
    "id": "bqvL0olWJg43"
   },
   "outputs": [],
   "source": [
    "cm = confusion_matrix(testgen.classes, predIDxs)\n",
    "total = sum(sum(cm))\n",
    "acc = (cm[0,0]+ cm[1,1])/total\n",
    "sensitivity = cm[0,0]/ (cm[0,0]+cm[0,1])\n",
    "specificity = cm[1,1]/ (cm[1,0]+cm[1,1])"
   ]
  },
  {
   "cell_type": "code",
   "execution_count": 72,
   "metadata": {
    "id": "HxF3ABO6Jg7S"
   },
   "outputs": [
    {
     "name": "stdout",
     "output_type": "stream",
     "text": [
      "[[23477 16134]\n",
      " [ 1944 13965]]\n",
      "acc: 0.6744\n",
      "sensitivity: 0.5927\n",
      "specificity: 0.8778\n"
     ]
    }
   ],
   "source": [
    "print(cm)\n",
    "print(\"acc: {:.4f}\".format(acc))\n",
    "print(\"sensitivity: {:.4f}\".format(sensitivity))\n",
    "print(\"specificity: {:.4f}\".format(specificity))"
   ]
  },
  {
   "cell_type": "code",
   "execution_count": null,
   "metadata": {
    "id": "eci0RLgqJg95"
   },
   "outputs": [],
   "source": [
    "import matplotlib\n",
    "matplotlib.use('TkAgg')  \n",
    "\n",
    "import matplotlib.pyplot as plt\n",
    "N =num_epochs\n",
    "plt.style.use(\"ggplot\")\n",
    "plt.figure()\n",
    "plt.plot(np.arange(0,N), h.history['loss'], label ='train_loss')\n",
    "plt.plot(np.arange(0,N), h.history['val_loss'], label ='val_loss')\n",
    "plt.plot(np.arange(0,N), h.history['accuracy'], label ='train_aac')\n",
    "plt.plot(np.arange(0,N), h.history['val_accuracy'], label ='val_acc')\n",
    "plt.title(\"training loss and accuracy on dataset\")\n",
    "plt.xlabel(\"EPOCHS\")\n",
    "plt.ylabel(\"loss/accuracy\")\n",
    "plt.legend(loc = \"lower left\")\n",
    "plt.show()"
   ]
  },
  {
   "cell_type": "code",
   "execution_count": null,
   "metadata": {
    "id": "w9M-qFzVJhAR"
   },
   "outputs": [],
   "source": []
  },
  {
   "cell_type": "code",
   "execution_count": null,
   "metadata": {
    "id": "nUsTkHhdJhCw"
   },
   "outputs": [],
   "source": []
  },
  {
   "cell_type": "code",
   "execution_count": null,
   "metadata": {
    "id": "m8OP5G9vJhFJ"
   },
   "outputs": [],
   "source": []
  },
  {
   "cell_type": "code",
   "execution_count": null,
   "metadata": {
    "id": "XPd5J6IFJhHf"
   },
   "outputs": [],
   "source": []
  }
 ],
 "metadata": {
  "colab": {
   "provenance": []
  },
  "kernelspec": {
   "display_name": "Python 3 (ipykernel)",
   "language": "python",
   "name": "python3"
  },
  "language_info": {
   "codemirror_mode": {
    "name": "ipython",
    "version": 3
   },
   "file_extension": ".py",
   "mimetype": "text/x-python",
   "name": "python",
   "nbconvert_exporter": "python",
   "pygments_lexer": "ipython3",
   "version": "3.11.4"
  }
 },
 "nbformat": 4,
 "nbformat_minor": 1
}
